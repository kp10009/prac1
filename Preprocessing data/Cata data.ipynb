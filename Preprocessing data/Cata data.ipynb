{
 "cells": [
  {
   "cell_type": "code",
   "execution_count": 5,
   "id": "c7b6fb03",
   "metadata": {},
   "outputs": [
    {
     "name": "stdout",
     "output_type": "stream",
     "text": [
      "row_id             0\n",
      "subject_id         0\n",
      "hadm_id            0\n",
      "drg_type           0\n",
      "drg_code           0\n",
      "description        0\n",
      "drg_severity     129\n",
      "drg_mortality    129\n",
      "dtype: int64\n"
     ]
    }
   ],
   "source": [
    "import numpy as np\n",
    "import pandas as pd\n",
    "df = pd.read_csv('DRGCODES.csv')\n",
    "print(df.isnull().sum())\n",
    "df['drg_severity']=df['drg_severity'].fillna(0)\n",
    "df['drg_mortality']= df['drg_mortality'].fillna(0)"
   ]
  },
  {
   "cell_type": "code",
   "execution_count": 6,
   "id": "dfb05666",
   "metadata": {},
   "outputs": [
    {
     "data": {
      "text/plain": [
       "0.0    129\n",
       "4.0     93\n",
       "3.0     57\n",
       "2.0     18\n",
       "Name: drg_severity, dtype: int64"
      ]
     },
     "execution_count": 6,
     "metadata": {},
     "output_type": "execute_result"
    }
   ],
   "source": [
    "df['drg_severity'].value_counts()"
   ]
  },
  {
   "cell_type": "code",
   "execution_count": 7,
   "id": "a7371a61",
   "metadata": {},
   "outputs": [
    {
     "data": {
      "text/plain": [
       "0.0    129\n",
       "4.0     82\n",
       "3.0     57\n",
       "2.0     25\n",
       "1.0      4\n",
       "Name: drg_mortality, dtype: int64"
      ]
     },
     "execution_count": 7,
     "metadata": {},
     "output_type": "execute_result"
    }
   ],
   "source": [
    "df['drg_mortality'].value_counts()"
   ]
  },
  {
   "cell_type": "code",
   "execution_count": 4,
   "id": "e36349bc",
   "metadata": {},
   "outputs": [],
   "source": []
  },
  {
   "cell_type": "code",
   "execution_count": null,
   "id": "ddbc5640",
   "metadata": {},
   "outputs": [],
   "source": []
  }
 ],
 "metadata": {
  "kernelspec": {
   "display_name": "Python 3 (ipykernel)",
   "language": "python",
   "name": "python3"
  },
  "language_info": {
   "codemirror_mode": {
    "name": "ipython",
    "version": 3
   },
   "file_extension": ".py",
   "mimetype": "text/x-python",
   "name": "python",
   "nbconvert_exporter": "python",
   "pygments_lexer": "ipython3",
   "version": "3.10.9"
  }
 },
 "nbformat": 4,
 "nbformat_minor": 5
}
