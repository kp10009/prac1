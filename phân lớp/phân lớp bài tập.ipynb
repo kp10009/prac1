{
 "cells": [
  {
   "cell_type": "code",
   "execution_count": 1,
   "id": "ad5df747",
   "metadata": {},
   "outputs": [
    {
     "data": {
      "text/plain": [
       "'Tập dữ liệu IRIS gồm 4 feature bao gồm các kích cỡ của 1 cánh hoa: chiều dài cánh, chiều dài nhụy, \\nchiều rộng cánh, chiều rộng nhụy từ đó suy ra 3 target - 3 loại hoa tương ứng'"
      ]
     },
     "execution_count": 1,
     "metadata": {},
     "output_type": "execute_result"
    }
   ],
   "source": [
    "'''Tập dữ liệu IRIS gồm 4 feature bao gồm các kích cỡ của 1 cánh hoa: chiều dài cánh, chiều dài nhụy, \n",
    "chiều rộng cánh, chiều rộng nhụy từ đó suy ra 3 target - 3 loại hoa tương ứng'''"
   ]
  },
  {
   "cell_type": "code",
   "execution_count": 2,
   "id": "57caca60",
   "metadata": {},
   "outputs": [],
   "source": [
    "import matplotlib.pyplot as plt\n",
    "from sklearn import datasets\n",
    "import numpy as np"
   ]
  },
  {
   "cell_type": "markdown",
   "id": "76a8c177",
   "metadata": {},
   "source": [
    "'''Sử dụng hàm load_iris để sử dụng dữ liệu IRIS gồm 4 feature và target 3 loại 0 1 2'''\n",
    "iris = datasets.load_iris()\n",
    "x = iris.data\n",
    "y = iris.target\n",
    "np.size(x,1)"
   ]
  },
  {
   "cell_type": "code",
   "execution_count": 11,
   "id": "23dc2b11",
   "metadata": {},
   "outputs": [
    {
     "data": {
      "text/plain": [
       "4"
      ]
     },
     "execution_count": 11,
     "metadata": {},
     "output_type": "execute_result"
    }
   ],
   "source": [
    "'''Sử dụng hàm load_iris để sử dụng dữ liệu IRIS gồm 4 feature và target 3 loại 0 1 2'''\n",
    "iris = datasets.load_iris()\n",
    "x = iris.data\n",
    "y = iris.target\n",
    "np.size(x,1)"
   ]
  },
  {
   "cell_type": "code",
   "execution_count": null,
   "id": "05652397",
   "metadata": {},
   "outputs": [],
   "source": [
    "from sklearn.linear_model import LogisticRegression\n",
    "from sklearn.model_selection import train_test_split\n",
    "from sklearn.metrics import confusion_matrix"
   ]
  },
  {
   "cell_type": "code",
   "execution_count": null,
   "id": "d93a326d",
   "metadata": {},
   "outputs": [],
   "source": [
    "x_train, x_test, y_train, y_test = train_test_split(x, y, test_size= 0.3)\n",
    "lo = LogisticRegression()\n",
    "lo.fit(x_train, y_train)\n",
    "pre = lo.predict(x_test)"
   ]
  },
  {
   "cell_type": "code",
   "execution_count": null,
   "id": "bc34b3d4",
   "metadata": {},
   "outputs": [],
   "source": [
    "print(lo.score(x_test, y_test))"
   ]
  },
  {
   "cell_type": "code",
   "execution_count": null,
   "id": "ec525a46",
   "metadata": {},
   "outputs": [],
   "source": [
    "'''Sử dụng confusion matrix đánh giá mô hình '''\n",
    "cf = confusion_matrix(y_test, pre) #xuat o dang matrix\n",
    "import seaborn as sn\n",
    "plt.figure(figsize = (10,7))\n",
    "sn.heatmap(cf, annot = True)\n",
    "plt.xlabel('Pre')\n",
    "plt.ylabel('Truth')"
   ]
  },
  {
   "cell_type": "code",
   "execution_count": null,
   "id": "741f5f7a",
   "metadata": {},
   "outputs": [],
   "source": [
    "#Đánh giá model LogisticRegression dùng coss_val_score\n",
    "from sklearn.model_selection import cross_val_score\n",
    "print(cross_val_score(LogisticRegression(), iris.data, iris.target))"
   ]
  },
  {
   "cell_type": "code",
   "execution_count": null,
   "id": "39cc0dc4",
   "metadata": {},
   "outputs": [],
   "source": []
  }
 ],
 "metadata": {
  "kernelspec": {
   "display_name": "Python 3 (ipykernel)",
   "language": "python",
   "name": "python3"
  },
  "language_info": {
   "codemirror_mode": {
    "name": "ipython",
    "version": 3
   },
   "file_extension": ".py",
   "mimetype": "text/x-python",
   "name": "python",
   "nbconvert_exporter": "python",
   "pygments_lexer": "ipython3",
   "version": "3.10.9"
  }
 },
 "nbformat": 4,
 "nbformat_minor": 5
}
