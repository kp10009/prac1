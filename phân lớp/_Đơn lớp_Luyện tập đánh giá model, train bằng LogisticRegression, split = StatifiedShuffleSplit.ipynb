{
 "cells": [
  {
   "cell_type": "code",
   "execution_count": 21,
   "id": "26ce740f",
   "metadata": {},
   "outputs": [],
   "source": [
    "import pandas as pd\n",
    "import numpy as np\n",
    "import matplotlib.pyplot as plt\n",
    "from sklearn import datasets\n",
    "from sklearn.linear_model import LogisticRegression\n",
    "from sklearn.model_selection import train_test_split\n",
    "from sklearn.metrics import accuracy_score, precision_score, recall_score, f1_score, confusion_matrix, ConfusionMatrixDisplay\n"
   ]
  },
  {
   "cell_type": "code",
   "execution_count": 22,
   "id": "5d170d6e",
   "metadata": {},
   "outputs": [],
   "source": [
    "data = datasets.load_breast_cancer()\n",
    "x = data.data\n",
    "y = data.target"
   ]
  },
  {
   "cell_type": "code",
   "execution_count": 23,
   "id": "5066d29f",
   "metadata": {},
   "outputs": [],
   "source": [
    "#chia su lieu bang train_test_split\n",
    "x_train, x_test, y_train, y_test = train_test_split(x, y, test_size =0.3)\n"
   ]
  },
  {
   "cell_type": "code",
   "execution_count": 27,
   "id": "a519a021",
   "metadata": {},
   "outputs": [
    {
     "name": "stdout",
     "output_type": "stream",
     "text": [
      "0.9415204678362573\n",
      "0.9415204678362573\n",
      "0.9345794392523364\n",
      "0.970873786407767\n",
      "0.9523809523809522\n"
     ]
    },
    {
     "name": "stderr",
     "output_type": "stream",
     "text": [
      "C:\\Users\\ainzo\\anaconda3\\lib\\site-packages\\sklearn\\linear_model\\_logistic.py:458: ConvergenceWarning: lbfgs failed to converge (status=1):\n",
      "STOP: TOTAL NO. of ITERATIONS REACHED LIMIT.\n",
      "\n",
      "Increase the number of iterations (max_iter) or scale the data as shown in:\n",
      "    https://scikit-learn.org/stable/modules/preprocessing.html\n",
      "Please also refer to the documentation for alternative solver options:\n",
      "    https://scikit-learn.org/stable/modules/linear_model.html#logistic-regression\n",
      "  n_iter_i = _check_optimize_result(\n"
     ]
    }
   ],
   "source": [
    "lo = LogisticRegression() #train model LogisticRegression\n",
    "lo.fit(x_train, y_train)\n",
    "pre = lo.predict(x_test)\n",
    "print(lo.score(x_test, y_test ))\n",
    "print(accuracy_score(y_test, pre)) #các cách đánh giá mô hình\n",
    "print(precision_score(y_test, pre)) #hiện 1 lần\n",
    "print(recall_score(y_test, pre))\n",
    "print(f1_score(y_test, pre))"
   ]
  },
  {
   "cell_type": "code",
   "execution_count": 31,
   "id": "bc3cf670",
   "metadata": {},
   "outputs": [],
   "source": [
    "#thử với StratìiedShuffleSplit, random state = 1, test_size 0.3, 5 lần chia data\n",
    "from sklearn.model_selection import StratifiedShuffleSplit\n",
    "sh = StratifiedShuffleSplit(n_splits = 5, test_size = 0.3, random_state = 1)"
   ]
  },
  {
   "cell_type": "code",
   "execution_count": 37,
   "id": "84745b35",
   "metadata": {},
   "outputs": [],
   "source": [
    "sh.get_n_splits(x, y) #Returns the number of splitting iterations in the cross-validator\n",
    "#tạo mảng chứa kết quả đánh giá model và chứa confu_matrix\n",
    "scores = []\n",
    "confu_matrix = []\n"
   ]
  },
  {
   "cell_type": "code",
   "execution_count": 40,
   "id": "f2f16152",
   "metadata": {},
   "outputs": [
    {
     "name": "stderr",
     "output_type": "stream",
     "text": [
      "C:\\Users\\ainzo\\anaconda3\\lib\\site-packages\\sklearn\\linear_model\\_logistic.py:458: ConvergenceWarning: lbfgs failed to converge (status=1):\n",
      "STOP: TOTAL NO. of ITERATIONS REACHED LIMIT.\n",
      "\n",
      "Increase the number of iterations (max_iter) or scale the data as shown in:\n",
      "    https://scikit-learn.org/stable/modules/preprocessing.html\n",
      "Please also refer to the documentation for alternative solver options:\n",
      "    https://scikit-learn.org/stable/modules/linear_model.html#logistic-regression\n",
      "  n_iter_i = _check_optimize_result(\n",
      "C:\\Users\\ainzo\\anaconda3\\lib\\site-packages\\sklearn\\linear_model\\_logistic.py:458: ConvergenceWarning: lbfgs failed to converge (status=1):\n",
      "STOP: TOTAL NO. of ITERATIONS REACHED LIMIT.\n",
      "\n",
      "Increase the number of iterations (max_iter) or scale the data as shown in:\n",
      "    https://scikit-learn.org/stable/modules/preprocessing.html\n",
      "Please also refer to the documentation for alternative solver options:\n",
      "    https://scikit-learn.org/stable/modules/linear_model.html#logistic-regression\n",
      "  n_iter_i = _check_optimize_result(\n",
      "C:\\Users\\ainzo\\anaconda3\\lib\\site-packages\\sklearn\\linear_model\\_logistic.py:458: ConvergenceWarning: lbfgs failed to converge (status=1):\n",
      "STOP: TOTAL NO. of ITERATIONS REACHED LIMIT.\n",
      "\n",
      "Increase the number of iterations (max_iter) or scale the data as shown in:\n",
      "    https://scikit-learn.org/stable/modules/preprocessing.html\n",
      "Please also refer to the documentation for alternative solver options:\n",
      "    https://scikit-learn.org/stable/modules/linear_model.html#logistic-regression\n",
      "  n_iter_i = _check_optimize_result(\n",
      "C:\\Users\\ainzo\\anaconda3\\lib\\site-packages\\sklearn\\linear_model\\_logistic.py:458: ConvergenceWarning: lbfgs failed to converge (status=1):\n",
      "STOP: TOTAL NO. of ITERATIONS REACHED LIMIT.\n",
      "\n",
      "Increase the number of iterations (max_iter) or scale the data as shown in:\n",
      "    https://scikit-learn.org/stable/modules/preprocessing.html\n",
      "Please also refer to the documentation for alternative solver options:\n",
      "    https://scikit-learn.org/stable/modules/linear_model.html#logistic-regression\n",
      "  n_iter_i = _check_optimize_result(\n",
      "C:\\Users\\ainzo\\anaconda3\\lib\\site-packages\\sklearn\\linear_model\\_logistic.py:458: ConvergenceWarning: lbfgs failed to converge (status=1):\n",
      "STOP: TOTAL NO. of ITERATIONS REACHED LIMIT.\n",
      "\n",
      "Increase the number of iterations (max_iter) or scale the data as shown in:\n",
      "    https://scikit-learn.org/stable/modules/preprocessing.html\n",
      "Please also refer to the documentation for alternative solver options:\n",
      "    https://scikit-learn.org/stable/modules/linear_model.html#logistic-regression\n",
      "  n_iter_i = _check_optimize_result(\n"
     ]
    }
   ],
   "source": [
    "for train_index, test_index in sh.split(x, y):\n",
    "    x_train, x_test = x[train_index], x[test_index] #cách gắn nhãn x_train, y_train thường gặp, khác với train_test_split\n",
    "    y_train, y_test = y[train_index], y[test_index]\n",
    "    lo.fit(x_train, y_train)\n",
    "    pre = lo.predict(x_test)\n",
    "\n",
    "    scores.append([accuracy_score(y_test, pre), precision_score(y_test, pre), recall_score(y_test, pre), f1_score(y_test, pre)])\n",
    "    confu_matrix.append(confusion_matrix(y_test, pre))\n",
    "    "
   ]
  },
  {
   "cell_type": "code",
   "execution_count": 41,
   "id": "3b324790",
   "metadata": {},
   "outputs": [
    {
     "data": {
      "text/html": [
       "<div>\n",
       "<style scoped>\n",
       "    .dataframe tbody tr th:only-of-type {\n",
       "        vertical-align: middle;\n",
       "    }\n",
       "\n",
       "    .dataframe tbody tr th {\n",
       "        vertical-align: top;\n",
       "    }\n",
       "\n",
       "    .dataframe thead th {\n",
       "        text-align: right;\n",
       "    }\n",
       "</style>\n",
       "<table border=\"1\" class=\"dataframe\">\n",
       "  <thead>\n",
       "    <tr style=\"text-align: right;\">\n",
       "      <th></th>\n",
       "      <th>Accuracy</th>\n",
       "      <th>Precision</th>\n",
       "      <th>Recall</th>\n",
       "      <th>F1</th>\n",
       "    </tr>\n",
       "  </thead>\n",
       "  <tbody>\n",
       "    <tr>\n",
       "      <th>0</th>\n",
       "      <td>0.935673</td>\n",
       "      <td>0.944444</td>\n",
       "      <td>0.953271</td>\n",
       "      <td>0.948837</td>\n",
       "    </tr>\n",
       "    <tr>\n",
       "      <th>1</th>\n",
       "      <td>0.929825</td>\n",
       "      <td>0.913043</td>\n",
       "      <td>0.981308</td>\n",
       "      <td>0.945946</td>\n",
       "    </tr>\n",
       "    <tr>\n",
       "      <th>2</th>\n",
       "      <td>0.912281</td>\n",
       "      <td>0.889831</td>\n",
       "      <td>0.981308</td>\n",
       "      <td>0.933333</td>\n",
       "    </tr>\n",
       "    <tr>\n",
       "      <th>3</th>\n",
       "      <td>0.947368</td>\n",
       "      <td>0.971154</td>\n",
       "      <td>0.943925</td>\n",
       "      <td>0.957346</td>\n",
       "    </tr>\n",
       "    <tr>\n",
       "      <th>4</th>\n",
       "      <td>0.947368</td>\n",
       "      <td>0.962264</td>\n",
       "      <td>0.953271</td>\n",
       "      <td>0.957746</td>\n",
       "    </tr>\n",
       "  </tbody>\n",
       "</table>\n",
       "</div>"
      ],
      "text/plain": [
       "   Accuracy  Precision    Recall        F1\n",
       "0  0.935673   0.944444  0.953271  0.948837\n",
       "1  0.929825   0.913043  0.981308  0.945946\n",
       "2  0.912281   0.889831  0.981308  0.933333\n",
       "3  0.947368   0.971154  0.943925  0.957346\n",
       "4  0.947368   0.962264  0.953271  0.957746"
      ]
     },
     "execution_count": 41,
     "metadata": {},
     "output_type": "execute_result"
    }
   ],
   "source": [
    "#in bảng điểm đánh giá \n",
    "pd.set_option('display.max_rows', None)\n",
    "result = pd.DataFrame(scores, columns=[\"Accuracy\",\"Precision\",\"Recall\", \"F1\"])\n",
    "result"
   ]
  },
  {
   "cell_type": "code",
   "execution_count": null,
   "id": "5b9df7a9",
   "metadata": {},
   "outputs": [],
   "source": []
  }
 ],
 "metadata": {
  "kernelspec": {
   "display_name": "Python 3 (ipykernel)",
   "language": "python",
   "name": "python3"
  },
  "language_info": {
   "codemirror_mode": {
    "name": "ipython",
    "version": 3
   },
   "file_extension": ".py",
   "mimetype": "text/x-python",
   "name": "python",
   "nbconvert_exporter": "python",
   "pygments_lexer": "ipython3",
   "version": "3.10.9"
  }
 },
 "nbformat": 4,
 "nbformat_minor": 5
}
